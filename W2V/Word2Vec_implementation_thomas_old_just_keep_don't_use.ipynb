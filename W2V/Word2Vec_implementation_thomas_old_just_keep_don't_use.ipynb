{
 "cells": [
  {
   "cell_type": "code",
   "execution_count": 51,
   "metadata": {},
   "outputs": [],
   "source": [
    "import numpy as np\n",
    "import gensim \n",
    "from gensim.models.word2vec import Word2Vec \n",
    "from sklearn.feature_extraction.text import TfidfVectorizer\n",
    "from sklearn.svm import LinearSVC\n",
    "from sklearn.model_selection import StratifiedKFold\n",
    "from sklearn.svm import LinearSVC\n",
    "\n",
    "import time\n",
    "\n",
    "import helpers as HL\n",
    "import cleaning as CL"
   ]
  },
  {
   "cell_type": "code",
   "execution_count": 2,
   "metadata": {},
   "outputs": [],
   "source": [
    "filenames = ['train_pos.txt', 'train_neg.txt'] \n",
    "\n",
    "corpus, file_lengths = HL.create_corpus(filenames)"
   ]
  },
  {
   "cell_type": "code",
   "execution_count": 30,
   "metadata": {},
   "outputs": [],
   "source": [
    "cluster_file_path = '50mpaths2.txt'\n",
    "cluster_dict = CL.create_dictionary(cluster_file_path)\n",
    "\n",
    "clusterised_corpus = CL.create_clusterized_corpus(corpus, cluster_dict)"
   ]
  },
  {
   "cell_type": "code",
   "execution_count": 4,
   "metadata": {},
   "outputs": [],
   "source": [
    "class IterableCorpus(object):\n",
    "    \n",
    "    def __init__(self, corpus):\n",
    "        self.corpus = corpus\n",
    "        \n",
    "    def __iter__(self):\n",
    "        for tweet in corpus:\n",
    "            tweet_words = tweet.split()\n",
    "            yield [word.decode('utf-8') for word in tweet_words]"
   ]
  },
  {
   "cell_type": "code",
   "execution_count": 7,
   "metadata": {},
   "outputs": [],
   "source": [
    "iterable_corpus = IterableCorpus(clusterised_corpus)\n",
    "\n",
    "# SMÆKK INN HYPERPARAMETERE HER!!! \n",
    "model = Word2Vec(iterable_corpus)"
   ]
  },
  {
   "cell_type": "code",
   "execution_count": 24,
   "metadata": {},
   "outputs": [
    {
     "data": {
      "text/plain": [
       "0.70570331580231127"
      ]
     },
     "execution_count": 24,
     "metadata": {},
     "output_type": "execute_result"
    }
   ],
   "source": [
    "#Just for fun\n",
    "model.similarity('lol','haha')"
   ]
  },
  {
   "cell_type": "markdown",
   "metadata": {},
   "source": [
    "#### So we have our word2vec model, giving us a representation for each word in the whole corpus. We now need to create a representation of each Tweet in the dataset. \n",
    "\n",
    "We will do this with the following steps: \n",
    "- Creating a TFIDF model for each word\n",
    "- Combining the word2vec-vectors for each word, weighting them by their TFIDF score\n",
    "- Run that shit through a neural network fuck yeaaaaah"
   ]
  },
  {
   "cell_type": "code",
   "execution_count": 46,
   "metadata": {
    "collapsed": true
   },
   "outputs": [],
   "source": [
    "#Creating a vectorizer to use for Tf-IDF analysis on words\n",
    "vectorizer = TfidfVectorizer(\n",
    "        min_df = 6, # removing word that occure less then 10 times \n",
    "        max_df = 1.3, # remove words that are too frequent ( more then 0.8 * number of tweets )\n",
    "        sublinear_tf=True, # scale the term frequency in logarithmic scale\n",
    "        use_idf =True\n",
    "        #stop_words = custom_stop_words # Removing stop-words\n",
    "    )"
   ]
  },
  {
   "cell_type": "code",
   "execution_count": 42,
   "metadata": {
    "collapsed": true
   },
   "outputs": [],
   "source": [
    "#Training-set numbers\n",
    "nr_of_positive_training_examples = 100000\n",
    "nr_of_training_examples = 200000\n",
    "\n",
    "#Making labels\n",
    "labels = np.zeros(nr_of_training_examples);\n",
    "labels[0:nr_of_positive_training_examples]=1;\n",
    "labels[nr_of_positive_training_examples:nr_of_training_examples]=0; "
   ]
  },
  {
   "cell_type": "code",
   "execution_count": null,
   "metadata": {
    "collapsed": true
   },
   "outputs": [],
   "source": [
    "corpus_tf_idf = vectorizer.fit_transform(corpus)\n"
   ]
  },
  {
   "cell_type": "code",
   "execution_count": null,
   "metadata": {
    "collapsed": true
   },
   "outputs": [],
   "source": []
  },
  {
   "cell_type": "code",
   "execution_count": null,
   "metadata": {
    "collapsed": true
   },
   "outputs": [],
   "source": []
  },
  {
   "cell_type": "code",
   "execution_count": null,
   "metadata": {
    "collapsed": true
   },
   "outputs": [],
   "source": []
  },
  {
   "cell_type": "code",
   "execution_count": null,
   "metadata": {
    "collapsed": true
   },
   "outputs": [],
   "source": []
  },
  {
   "cell_type": "code",
   "execution_count": null,
   "metadata": {
    "collapsed": true
   },
   "outputs": [],
   "source": []
  },
  {
   "cell_type": "code",
   "execution_count": 52,
   "metadata": {},
   "outputs": [
    {
     "name": "stdout",
     "output_type": "stream",
     "text": [
      "Best score:  0.792595 \n",
      " With min_df: 4  and  Max_df: 0.1\n",
      "Run:  0 - Time: 20.833454370498657\n",
      "Run:  1 - Time: 17.848948001861572\n",
      "Run:  2 - Time: 16.260960578918457\n",
      "Run:  3 - Time: 16.54555106163025\n",
      "Run:  4 - Time: 16.23372721672058\n",
      "Run:  5 - Time: 16.393404722213745\n",
      "Run:  6 - Time: 18.04198408126831\n",
      "Run:  7 - Time: 17.269551038742065\n",
      "Run:  8 - Time: 16.61327600479126\n",
      "Run:  9 - Time: 16.88491654396057\n",
      "Run:  10 - Time: 18.763741970062256\n",
      "Run:  11 - Time: 17.548179149627686\n",
      "Run:  12 - Time: 23.25485873222351\n",
      "Run:  13 - Time: 23.963690042495728\n",
      "Run:  14 - Time: 22.57299041748047\n",
      "Run:  15 - Time: 16.734185934066772\n",
      "Run:  16 - Time: 16.680673837661743\n",
      "Run:  17 - Time: 18.005351066589355\n",
      "Run:  18 - Time: 17.146661520004272\n",
      "Run:  19 - Time: 16.9967257976532\n",
      "Run:  20 - Time: 16.815205097198486\n",
      "Run:  21 - Time: 17.049448013305664\n",
      "Run:  22 - Time: 16.200737714767456\n",
      "Run:  23 - Time: 16.63927698135376\n",
      "Run:  24 - Time: 18.22055983543396\n",
      "Run:  25 - Time: 17.51658821105957\n",
      "Run:  26 - Time: 17.33414101600647\n",
      "Run:  27 - Time: 17.4673912525177\n",
      "Run:  28 - Time: 17.319334030151367\n",
      "Run:  29 - Time: 18.640589952468872\n",
      "Run:  30 - Time: 18.7794086933136\n",
      "Run:  31 - Time: 16.45479154586792\n",
      "Run:  32 - Time: 19.6051185131073\n",
      "Run:  33 - Time: 20.96120548248291\n",
      "Run:  34 - Time: 21.195831537246704\n",
      "Run:  35 - Time: 22.702834367752075\n",
      "Run:  36 - Time: 18.386911392211914\n",
      "Run:  37 - Time: 19.063164472579956\n",
      "Run:  38 - Time: 18.015377044677734\n",
      "Run:  39 - Time: 20.52380061149597\n",
      "Run:  40 - Time: 17.86452007293701\n",
      "Run:  41 - Time: 18.012404441833496\n",
      "Run:  42 - Time: 17.44203805923462\n",
      "Run:  43 - Time: 18.651962518692017\n",
      "Run:  44 - Time: 18.616623163223267\n",
      "Run:  45 - Time: 17.278483152389526\n",
      "Run:  46 - Time: 18.253061294555664\n",
      "Run:  47 - Time: 17.82264757156372\n",
      "Run:  48 - Time: 18.424014568328857\n",
      "Run:  49 - Time: 17.805853843688965\n",
      "Run:  50 - Time: 17.453455209732056\n",
      "Run:  51 - Time: 18.58144521713257\n",
      "Run:  52 - Time: 17.581767797470093\n",
      "Run:  53 - Time: 18.25405716896057\n",
      "Run:  54 - Time: 16.27674412727356\n",
      "Run:  55 - Time: 16.179168701171875\n",
      "Run:  56 - Time: 17.121312856674194\n",
      "Run:  57 - Time: 17.807402849197388\n",
      "Run:  58 - Time: 18.12018918991089\n",
      "Run:  59 - Time: 17.524661779403687\n",
      "Run:  60 - Time: 18.662198066711426\n",
      "Best score:  0.7926 \n",
      " With min_df: 8  and  Max_df: 0.235714285714\n",
      "Run:  61 - Time: 16.470712900161743\n",
      "Run:  62 - Time: 17.349562644958496\n",
      "Run:  63 - Time: 19.455780029296875\n",
      "Run:  64 - Time: 20.696008443832397\n",
      "Run:  65 - Time: 17.43107795715332\n",
      "Run:  66 - Time: 16.615329027175903\n",
      "Run:  67 - Time: 16.563257455825806\n",
      "Run:  68 - Time: 17.844509840011597\n",
      "Run:  69 - Time: 17.069895267486572\n",
      "Run:  70 - Time: 16.3868408203125\n",
      "Run:  71 - Time: 19.726487636566162\n",
      "Run:  72 - Time: 19.550462007522583\n",
      "Run:  73 - Time: 18.39359450340271\n",
      "Run:  74 - Time: 18.321717739105225\n",
      "Run:  75 - Time: 16.623985052108765\n",
      "Run:  76 - Time: 15.995760917663574\n",
      "Run:  77 - Time: 16.007251024246216\n",
      "Run:  78 - Time: 17.475388288497925\n",
      "Run:  79 - Time: 17.366193056106567\n",
      "Run:  80 - Time: 16.661009550094604\n",
      "Run:  81 - Time: 16.60677456855774\n",
      "Run:  82 - Time: 17.985634803771973\n",
      "Run:  83 - Time: 17.53112554550171\n",
      "Run:  84 - Time: 28.547406911849976\n",
      "Run:  85 - Time: 18.13981819152832\n",
      "Run:  86 - Time: 17.328733921051025\n",
      "Run:  87 - Time: 17.602864265441895\n",
      "Run:  88 - Time: 17.20940852165222\n",
      "Run:  89 - Time: 18.07016634941101\n",
      "Run:  90 - Time: 16.983726978302002\n",
      "Run:  91 - Time: 16.789292335510254\n",
      "Run:  92 - Time: 16.274792432785034\n",
      "Run:  93 - Time: 17.65548086166382\n",
      "Run:  94 - Time: 17.501052618026733\n",
      "Run:  95 - Time: 17.929645538330078\n",
      "Run:  96 - Time: 18.211971282958984\n",
      "Run:  97 - Time: 19.891528367996216\n",
      "Run:  98 - Time: 18.424254179000854\n",
      "Run:  99 - Time: 18.204795598983765\n",
      "Run:  100 - Time: 22.539527654647827\n",
      "Run:  101 - Time: 21.864136219024658\n",
      "Run:  102 - Time: 18.789449453353882\n",
      "Run:  103 - Time: 16.80674982070923\n",
      "Run:  104 - Time: 17.03886318206787\n",
      "Run:  105 - Time: 19.386542558670044\n",
      "Run:  106 - Time: 17.60794186592102\n",
      "Run:  107 - Time: 17.227254629135132\n",
      "Run:  108 - Time: 18.094162940979004\n",
      "Run:  109 - Time: 17.90424132347107\n",
      "Run:  110 - Time: 17.288074016571045\n",
      "Run:  111 - Time: 18.636813402175903\n",
      "Run:  112 - Time: 17.709677696228027\n",
      "Run:  113 - Time: 16.837422132492065\n",
      "Run:  114 - Time: 18.52622938156128\n",
      "Run:  115 - Time: 18.06004524230957\n",
      "Run:  116 - Time: 17.049850463867188\n",
      "Run:  117 - Time: 18.08769941329956\n",
      "Run:  118 - Time: 24.269502639770508\n",
      "Run:  119 - Time: 17.434541940689087\n",
      "Run:  120 - Time: 16.621132373809814\n",
      "Run:  121 - Time: 16.520451068878174\n",
      "Run:  122 - Time: 16.952686548233032\n",
      "Run:  123 - Time: 18.002935886383057\n",
      "Run:  124 - Time: 16.843412160873413\n",
      "Run:  125 - Time: 17.242334842681885\n",
      "Run:  126 - Time: 17.558725833892822\n",
      "Run:  127 - Time: 17.15960431098938\n",
      "Run:  128 - Time: 16.03721046447754\n",
      "Run:  129 - Time: 16.842486143112183\n",
      "Run:  130 - Time: 17.322959661483765\n",
      "Run:  131 - Time: 17.549235343933105\n",
      "Run:  132 - Time: 17.740726232528687\n",
      "Run:  133 - Time: 17.14968490600586\n",
      "Run:  134 - Time: 16.779687881469727\n"
     ]
    }
   ],
   "source": [
    "#THIS THING SUCKS, NO POINT IN USING THIS SHIT\n",
    "\n",
    "kf = StratifiedKFold(n_splits=3)\n",
    "\n",
    "best_score = 0\n",
    "best_min_df = 0 \n",
    "best_max_df = 0\n",
    "\n",
    "min_df_list = list(range(4,13))\n",
    "max_df_list = np.linspace(0.1, 2.0, num=15)\n",
    "\n",
    "run = 0\n",
    "\n",
    "for min_df in min_df_list:\n",
    "    for max_df in max_df_list:\n",
    "        \n",
    "        start = time.time()\n",
    "\n",
    "        totalacc = 0   # Accuracy measure \n",
    "\n",
    "        for train_index, test_index in kf.split(clusterised_corpus, labels):\n",
    "\n",
    "            X_train = [corpus[i] for i in train_index]\n",
    "            X_test = [corpus[i] for i in test_index]\n",
    "\n",
    "            y_train, y_test = labels[train_index], labels[test_index]\n",
    "\n",
    "            train_corpus_tf_idf = vectorizer.fit_transform(X_train) \n",
    "            test_corpus_tf_idf = vectorizer.transform(X_test)\n",
    "\n",
    "            model1 = LinearSVC()\n",
    "            model1.fit(train_corpus_tf_idf,y_train)\n",
    "            result1 = model1.predict(test_corpus_tf_idf)\n",
    "\n",
    "            totalacc = totalacc+sum(y_test==result1)\n",
    "\n",
    "        score = totalacc/nr_of_training_examples  \n",
    "\n",
    "        if(score > best_score):\n",
    "            best_min_df = min_df\n",
    "            best_max_df = max_df\n",
    "            best_score = score\n",
    "\n",
    "            print(\"Best score: \", best_score, \"\\n\",\n",
    "                  \"With min_df:\", min_df, \" and \",\n",
    "                  \"Max_df:\", max_df)\n",
    "\n",
    "        elapsed = time.time()\n",
    "        print(\"Run: \", run, \"- Time:\", elapsed-start)\n",
    "        run += 1"
   ]
  },
  {
   "cell_type": "code",
   "execution_count": null,
   "metadata": {
    "collapsed": true
   },
   "outputs": [],
   "source": []
  },
  {
   "cell_type": "code",
   "execution_count": null,
   "metadata": {
    "collapsed": true
   },
   "outputs": [],
   "source": []
  },
  {
   "cell_type": "code",
   "execution_count": null,
   "metadata": {
    "collapsed": true
   },
   "outputs": [],
   "source": []
  },
  {
   "cell_type": "code",
   "execution_count": null,
   "metadata": {
    "collapsed": true
   },
   "outputs": [],
   "source": []
  },
  {
   "cell_type": "code",
   "execution_count": null,
   "metadata": {
    "collapsed": true
   },
   "outputs": [],
   "source": []
  },
  {
   "cell_type": "code",
   "execution_count": null,
   "metadata": {
    "collapsed": true
   },
   "outputs": [],
   "source": []
  }
 ],
 "metadata": {
  "kernelspec": {
   "display_name": "Python 3",
   "language": "python",
   "name": "python3"
  },
  "language_info": {
   "codemirror_mode": {
    "name": "ipython",
    "version": 3
   },
   "file_extension": ".py",
   "mimetype": "text/x-python",
   "name": "python",
   "nbconvert_exporter": "python",
   "pygments_lexer": "ipython3",
   "version": "3.6.1"
  }
 },
 "nbformat": 4,
 "nbformat_minor": 2
}
