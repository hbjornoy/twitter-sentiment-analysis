{
 "cells": [
  {
   "cell_type": "code",
   "execution_count": 1,
   "metadata": {
    "collapsed": true
   },
   "outputs": [],
   "source": [
    "# Imports and stuff\n",
    "import os\n",
    "import time\n",
    "import csv\n",
    "\n",
    "#Libraries\n",
    "import numpy as np\n",
    "from sklearn.naive_bayes import MultinomialNB\n",
    "from sklearn.naive_bayes import BernoulliNB\n",
    "from sklearn.feature_extraction import stop_words\n",
    "from sklearn.metrics import confusion_matrix\n",
    "from sklearn.svm import LinearSVC\n",
    "from sklearn.svm import SVC\n",
    "from sklearn.svm import NuSVC\n",
    "\n",
    "from sklearn.feature_extraction.text import TfidfVectorizer\n",
    "from sklearn.model_selection import StratifiedKFold\n",
    "\n",
    "\n",
    "\n",
    "#Powerpuff-stuff\n",
    "import helpers as HL\n",
    "import tolken as TO\n",
    "\n"
   ]
  },
  {
   "cell_type": "code",
   "execution_count": null,
   "metadata": {
    "collapsed": true
   },
   "outputs": [],
   "source": []
  },
  {
   "cell_type": "markdown",
   "metadata": {},
   "source": [
    "### Running for local testing\n"
   ]
  },
  {
   "cell_type": "code",
   "execution_count": 15,
   "metadata": {
    "collapsed": true
   },
   "outputs": [],
   "source": [
    "# RUNNING ON TRAINING SET WITH CROSS VALIDATION\n",
    "\n",
    "training_set_pos = \"train_pos.txt\" \n",
    "training_set_neg = \"train_neg.txt\"\n",
    "test_set = \"test_data.txt\"\n",
    "\n",
    "inputfiles=[training_set_pos, training_set_neg]\n",
    "\n",
    "corpus, file_lengths=HL.create_corpus(inputfiles)"
   ]
  },
  {
   "cell_type": "code",
   "execution_count": 9,
   "metadata": {
    "collapsed": true
   },
   "outputs": [],
   "source": [
    "hedda_corpus = TO.replace_words(original_corpus)"
   ]
  },
  {
   "cell_type": "code",
   "execution_count": 22,
   "metadata": {
    "collapsed": true
   },
   "outputs": [],
   "source": [
    "#corpus = HL.creating_n_grams_cropus(2, hedda_corpus)"
   ]
  },
  {
   "cell_type": "code",
   "execution_count": 10,
   "metadata": {
    "collapsed": true
   },
   "outputs": [],
   "source": [
    "corpus = hedda_corpus"
   ]
  },
  {
   "cell_type": "code",
   "execution_count": 16,
   "metadata": {},
   "outputs": [
    {
     "name": "stdout",
     "output_type": "stream",
     "text": [
      "[ 1.  0.  0. ...,  1.  0.  0.]\n",
      "[ 1.  1.  1. ...,  0.  1.  0.]\n",
      "[ 1.  1.  1. ...,  0.  0.  0.]\n",
      "[ 1.  1.  1. ...,  0.  1.  1.]\n",
      "[ 1.  1.  1. ...,  0.  0.  0.]\n",
      "[ 1.  1.  1. ...,  1.  1.  0.]\n",
      "[ 1.  1.  1. ...,  0.  0.  1.]\n",
      "[ 1.  1.  1. ...,  0.  0.  1.]\n",
      "[ 1.  1.  1. ...,  1.  0.  0.]\n",
      "[ 1.  1.  1. ...,  0.  0.  0.]\n",
      "[[ 76114.  23886.]\n",
      " [ 18041.  81959.]] \n",
      " Total accuracy: 0.790365\n"
     ]
    }
   ],
   "source": [
    "nr_pos_lines = 100000\n",
    "nr_lines_total =200000\n",
    "\n",
    "#Making labels, setting pos = 1 and neg = 0 \n",
    "labels = np.zeros(nr_lines_total);\n",
    "labels[0:nr_pos_lines]=1;\n",
    "labels[nr_pos_lines:nr_lines_total]=0;\n",
    "\n",
    "#Variables for measuring accuracy -----------------------\n",
    "\n",
    "totalsvm = 0   # Accuracy measure \n",
    "totalMatSvm = np.zeros((2,2));  # Confusion matrix \n",
    "\n",
    "#Running algorithm with K-fold ---------------------------\n",
    "\n",
    "#Creating K-fold = 10 for cross validation\n",
    "kf = StratifiedKFold(n_splits=10)\n",
    "\n",
    "for train_index, test_index in kf.split(corpus,labels):\n",
    "    \n",
    "    X_train = [corpus[i] for i in train_index]\n",
    "    X_test = [corpus[i] for i in test_index]\n",
    "    \n",
    "    y_train, y_test = labels[train_index], labels[test_index]\n",
    "    \n",
    "    vectorizer = TfidfVectorizer(\n",
    "        min_df = 10, # removing word that occure less then 10 times \n",
    "        max_df = 0.5, # remove words that are too frequent ( more then 0.8 * number of files )\n",
    "        sublinear_tf=True, # scale the term frequency in logarithmic scale\n",
    "        max_features = 3000,\n",
    "        use_idf = True\n",
    "    )\n",
    "    \n",
    "    train_corpus_tf_idf = vectorizer.fit_transform(X_train) \n",
    "    test_corpus_tf_idf = vectorizer.transform(X_test)\n",
    "\n",
    "    model1 = LinearSVC()\n",
    "    model1.fit(train_corpus_tf_idf,y_train)\n",
    "    result1 = model1.predict(test_corpus_tf_idf)\n",
    "    \n",
    "    print(result1)\n",
    "    \n",
    "    totalMatSvm = totalMatSvm + confusion_matrix(y_test, result1)\n",
    "    totalsvm = totalsvm+sum(y_test==result1)\n",
    "    \n",
    "print(totalMatSvm, \"\\n\", \"Total accuracy:\", totalsvm/nr_lines_total)  "
   ]
  },
  {
   "cell_type": "markdown",
   "metadata": {},
   "source": [
    "### Running for keggle delivery"
   ]
  },
  {
   "cell_type": "code",
   "execution_count": 18,
   "metadata": {},
   "outputs": [
    {
     "name": "stdout",
     "output_type": "stream",
     "text": [
      "Time in min: 0.018616263071695963\n"
     ]
    }
   ],
   "source": [
    "start = time.time()\n",
    "\n",
    "training_set_pos = \"train_pos_full.txt\" \n",
    "training_set_neg = \"train_neg_full.txt\"\n",
    "test_set = \"test_data.txt\"\n",
    "\n",
    "inputfiles=[training_set_pos, training_set_neg]\n",
    "\n",
    "corpus, file_lengths=HL.create_corpus(inputfiles)\n",
    "\n",
    "#Couning nr. of lines in pos and neg training_set\n",
    "nr_pos_lines = 1250000\n",
    "nr_neg_lines = 1250000\n",
    "\n",
    "#### CREATING TEST CORPUS ####\n",
    "test_corpus, test_coprus_length = HL.create_corpus(['test_data.txt'])\n",
    "\n",
    "labels = HL.create_labels(nr_neg_lines, nr_pos_lines)\n",
    "\n",
    "vectorizer = TfidfVectorizer(\n",
    "    min_df=9, # removing word that occure less then X times \n",
    "    max_df = 0.8, # remove words that are too frequent, in X*100 % of the files\n",
    "    sublinear_tf=True, # scale the term frequency in logarithmic scale\n",
    "    use_idf =True\n",
    ")\n",
    "\n",
    "#CLASSIFYING WITH SVM\n",
    "model = LinearSVC()\n",
    "\n",
    "elapsed = time.time()\n",
    "\n",
    "print (\"Time in min:\", (elapsed - start) / 60 )\n"
   ]
  },
  {
   "cell_type": "code",
   "execution_count": 19,
   "metadata": {},
   "outputs": [
    {
     "name": "stdout",
     "output_type": "stream",
     "text": [
      "Time in min: 0.7540553132692973\n"
     ]
    }
   ],
   "source": [
    "start = time.time()\n",
    "\n",
    "#VECTORIZING ( Basically the preprocessing, see: TfidfVectorizer)\n",
    "train_corpus_fittrans = vectorizer.fit_transform(corpus) \n",
    "test_corpus_trans = vectorizer.transform(test_corpus)\n",
    "\n",
    "elapsed = time.time()\n",
    "\n",
    "print (\"Time in min:\", (elapsed - start) / 60 )"
   ]
  },
  {
   "cell_type": "code",
   "execution_count": 20,
   "metadata": {},
   "outputs": [
    {
     "name": "stdout",
     "output_type": "stream",
     "text": [
      "Time in min: 14.595923177401225\n"
     ]
    }
   ],
   "source": [
    "start = time.time()\n",
    "\n",
    "# FITTING THE MODEL\n",
    "model.fit(train_corpus_fittrans, labels)\n",
    "\n",
    "elapsed = time.time()\n",
    "print (\"Time in min:\", (elapsed - start) / 60 )"
   ]
  },
  {
   "cell_type": "code",
   "execution_count": 21,
   "metadata": {},
   "outputs": [
    {
     "name": "stdout",
     "output_type": "stream",
     "text": [
      "[ 0.  0.  0. ...,  0.  1.  0.]\n",
      "Time in min: 5.0127506256103516e-05\n"
     ]
    }
   ],
   "source": [
    "start = time.time()\n",
    "\n",
    "#PREDICTING\n",
    "submission_prediction = model.predict(test_corpus_trans)\n",
    "print(submission_prediction)\n",
    "\n",
    "elapsed = time.time()\n",
    "print (\"Time in min:\", (elapsed - start) / 60 )"
   ]
  },
  {
   "cell_type": "code",
   "execution_count": 27,
   "metadata": {
    "collapsed": true
   },
   "outputs": [],
   "source": [
    "submission_prediction = [-1 if val==0 else val for val in submission_prediction]"
   ]
  },
  {
   "cell_type": "code",
   "execution_count": 26,
   "metadata": {},
   "outputs": [
    {
     "name": "stdout",
     "output_type": "stream",
     "text": [
      "Time in min: 0.0011864821116129556\n"
     ]
    }
   ],
   "source": [
    "start = time.time()\n",
    "\n",
    "#CREATING SUBMISSION\n",
    "ids = list(range(1,nr_lines_total+1))\n",
    "y_pred = submission_prediction\n",
    "name = \"keggle_submission_idftf.csv\"\n",
    "\n",
    "HL.create_csv_submission(ids, y_pred, name)\n",
    "\n",
    "elapsed = time.time()\n",
    "print (\"Time in min:\", (elapsed - start) / 60 )"
   ]
  },
  {
   "cell_type": "code",
   "execution_count": null,
   "metadata": {
    "collapsed": true
   },
   "outputs": [],
   "source": []
  },
  {
   "cell_type": "code",
   "execution_count": null,
   "metadata": {
    "collapsed": true
   },
   "outputs": [],
   "source": []
  },
  {
   "cell_type": "markdown",
   "metadata": {},
   "source": [
    "# EVERYTHING BELOW THIS IS JUST A MESS! DON'T GO THERE IF YOU DON'T HAVE TOO!"
   ]
  },
  {
   "cell_type": "code",
   "execution_count": null,
   "metadata": {
    "collapsed": true
   },
   "outputs": [],
   "source": []
  },
  {
   "cell_type": "code",
   "execution_count": null,
   "metadata": {
    "collapsed": true
   },
   "outputs": [],
   "source": []
  },
  {
   "cell_type": "markdown",
   "metadata": {},
   "source": [
    "## Running on test-data with GRID-SEARCH on parameters for tokenizing "
   ]
  },
  {
   "cell_type": "code",
   "execution_count": null,
   "metadata": {
    "collapsed": true
   },
   "outputs": [],
   "source": [
    "# RUNNING ON TRAINING SET WITH CROSS VALIDATION\n",
    "\n",
    "training_set_pos = \"train_pos.txt\" \n",
    "training_set_neg = \"train_neg.txt\"\n",
    "test_set = \"test_data.txt\"\n",
    "\n",
    "#Couning nr. of lines in pos and neg training_set\n",
    "nr_pos_lines = 0\n",
    "nr_neg_lines = 0\n",
    "\n",
    "#Creating corpus ---------------------------------------\n",
    "corpus = []\n",
    "\n",
    "#Adding lines from positive training set to CORPUS\n",
    "with open(training_set_pos,'rb') as infile:\n",
    "    for line in infile:\n",
    "        corpus.append(line)\n",
    "\n",
    "nr_pos_lines = len(corpus)\n",
    "        \n",
    "#Adding lines from negative training set to CORPUS\n",
    "with open(training_set_neg,'rb') as infile:\n",
    "    for line in infile:\n",
    "        corpus.append(line)\n",
    "        \n",
    "nr_neg_lines = len(corpus) - nr_pos_lines\n",
    "\n",
    "#Finding tot nr. of lines\n",
    "nr_lines_total = nr_pos_lines + nr_neg_lines\n",
    "\n",
    "#Creating labels-array  ---------------------------------    \n",
    "\n",
    "#Making labels, setting pos = 1 and neg = 0 \n",
    "labels = np.zeros(nr_lines_total);\n",
    "labels[0:nr_pos_lines]=1;\n",
    "labels[nr_pos_lines:nr_lines_total]=0;\n",
    "\n",
    "#Variables for measuring accuracy -----------------------\n",
    "\n",
    "totalsvm = 0   # Accuracy measure \n",
    "totalMatSvm = np.zeros((2,2));  # Confusion matrix \n",
    "\n",
    "#Running algorithm with K-fold ---------------------------\n",
    "\n",
    " \n",
    "min_df_list = list(range(10,13))\n",
    "max_df_list = np.linspace(0.3, 2.0, num=15)\n",
    "\n",
    "scores = []\n",
    "best_score = 0\n",
    "best_min_df = 0 \n",
    "best_max_df = 0\n",
    "\n",
    "for min_df in min_df_list:\n",
    "    for max_df in max_df_list:\n",
    "        \n",
    "        #Creating K-fold for cross validation\n",
    "        kf = StratifiedKFold(n_splits=2)\n",
    "        \n",
    "        totalsvm = 0\n",
    "\n",
    "        for train_index, test_index in kf.split(corpus,labels):\n",
    "\n",
    "            X_train = [corpus[i] for i in train_index]\n",
    "            X_test = [corpus[i] for i in test_index]\n",
    "\n",
    "            y_train, y_test = labels[train_index], labels[test_index]\n",
    "\n",
    "            vectorizer = TfidfVectorizer(\n",
    "                min_df = min_df, # removing word that occure less then X times \n",
    "                max_df = max_df, # remove words that are too frequent ( more then 0.8 * number of files )\n",
    "                sublinear_tf=True, # scale the term frequency in logarithmic scale\n",
    "                use_idf =True\n",
    "                #stop_words = 'english', # Removing stop-words\n",
    "            )\n",
    "\n",
    "            train_corpus_tf_idf = vectorizer.fit_transform(X_train) \n",
    "            test_corpus_tf_idf = vectorizer.transform(X_test)\n",
    "\n",
    "            model1 = LinearSVC()\n",
    "            model1.fit(train_corpus_tf_idf,y_train)\n",
    "            result1 = model1.predict(test_corpus_tf_idf)\n",
    "            \n",
    "                \n",
    "            #totalMatSvm = totalMatSvm + confusion_matrix(y_test, result1)\n",
    "            totalsvm = totalsvm+sum(y_test==result1)\n",
    "\n",
    "        score = totalsvm / nr_lines_total\n",
    "        scores.append(score)\n",
    "        \n",
    "        if(score > best_score):\n",
    "            best_min_df = min_df\n",
    "            best_max_df = max_df\n",
    "            best_score = score\n",
    "        \n",
    "            print(\"Best score: \", best_score, \"\\n\",\n",
    "                  \"With min_df:\", min_df, \" and \",\n",
    "                  \"Max_df:\", max_df)\n",
    "            "
   ]
  },
  {
   "cell_type": "markdown",
   "metadata": {
    "collapsed": true
   },
   "source": [
    "## STUPID N-GRAM IMPLEMENTATION, K-fold validated"
   ]
  },
  {
   "cell_type": "code",
   "execution_count": null,
   "metadata": {
    "collapsed": true
   },
   "outputs": [],
   "source": [
    "start = time.time()\n",
    "# RUNNING ON TRAINING SET WITH CROSS VALIDATION\n",
    "\n",
    "training_set_pos = \"train_pos_full.txt\" \n",
    "training_set_neg = \"train_neg_full.txt\"\n",
    "test_set = \"test_data.txt\"\n",
    "\n",
    "#Couning nr. of lines in pos and neg training_set\n",
    "nr_pos_lines = 0\n",
    "nr_neg_lines = 0\n",
    "\n",
    "\n",
    "def add_n_grams(tweet, n):\n",
    "\n",
    "    n_grams = []\n",
    "    words = tweet.split()\n",
    "    for i in range(len(words)-1):        \n",
    "        n_grams.append(b''.join([words[i], b'-', words[i+1]]))\n",
    "    words.extend(n_grams)\n",
    "    return b'-'.join(words)\n",
    "\n",
    "#Creating corpus ---------------------------------------\n",
    "corpus = []\n",
    "\n",
    "n_gram = 4\n",
    "\n",
    "#Adding lines from positive training set to CORPUS\n",
    "with open(training_set_pos,'rb') as infile:\n",
    "    for line in infile:\n",
    "        line = add_n_grams(line, n_gram)\n",
    "        corpus.append(line)\n",
    "\n",
    "nr_pos_lines = len(corpus)\n",
    "        \n",
    "#Adding lines from negative training set to CORPUS\n",
    "with open(training_set_neg,'rb') as infile:\n",
    "    for line in infile:\n",
    "        line = add_n_grams(line, n_gram)\n",
    "        corpus.append(line)\n",
    "        \n",
    "nr_neg_lines = len(corpus) - nr_pos_lines\n",
    "\n",
    "#Finding tot nr. of lines\n",
    "nr_lines_total = nr_pos_lines + nr_neg_lines\n",
    "\n",
    "#Creating labels-array  ---------------------------------    \n",
    "\n",
    "#Making labels, setting pos = 1 and neg = 0 \n",
    "labels = np.zeros(nr_lines_total);\n",
    "labels[0:nr_pos_lines]=1;\n",
    "labels[nr_pos_lines:nr_lines_total]=0;\n",
    "\n",
    "#Variables for measuring accuracy -----------------------\n",
    "\n",
    "totalsvm = 0   # Accuracy measure \n",
    "totalMatSvm = np.zeros((2,2));  # Confusion matrix \n",
    "\n",
    "#Running algorithm with K-fold ---------------------------\n",
    "end = time.time()\n",
    "\n",
    "print(\"time in min:\", (end-start)/60)\n",
    " "
   ]
  },
  {
   "cell_type": "markdown",
   "metadata": {},
   "source": [
    "ONLY run the cell below if you want to CROSS VALIDATE TO FIND BEST PARAMS, if not skip next cell"
   ]
  },
  {
   "cell_type": "code",
   "execution_count": null,
   "metadata": {
    "collapsed": true
   },
   "outputs": [],
   "source": [
    "min_df_list = list(range(9,14))\n",
    "max_df_list = np.linspace(0.8, 1.1, num=2)\n",
    "\n",
    "scores = []\n",
    "best_score = 0\n",
    "best_min_df = 0 \n",
    "best_max_df = 0\n",
    "\n",
    "run = 0\n",
    "\n",
    "start = time.time()\n",
    "\n",
    "for min_df in min_df_list:\n",
    "    for max_df in max_df_list:\n",
    "        \n",
    "        run += 1\n",
    "        \n",
    "        start = time.time()\n",
    "        \n",
    "    \n",
    "        #Creating K-fold for cross validation\n",
    "        kf = StratifiedKFold(n_splits=2)\n",
    "        \n",
    "        totalsvm = 0\n",
    "\n",
    "        for train_index, test_index in kf.split(corpus,labels):\n",
    "\n",
    "            X_train = [corpus[i] for i in train_index]\n",
    "            X_test = [corpus[i] for i in test_index]\n",
    "\n",
    "            y_train, y_test = labels[train_index], labels[test_index]\n",
    "\n",
    "            vectorizer = TfidfVectorizer(\n",
    "                min_df = min_df, # removing word that occure less then X times \n",
    "                max_df = max_df, # remove words that are too frequent ( more then 0.8 * number of files )\n",
    "                sublinear_tf=True, # scale the term frequency in logarithmic scale\n",
    "                use_idf =True\n",
    "                #stop_words = 'english', # Removing stop-words\n",
    "            )\n",
    "\n",
    "            train_corpus_tf_idf = vectorizer.fit_transform(X_train) \n",
    "            test_corpus_tf_idf = vectorizer.transform(X_test)\n",
    "\n",
    "            model1 = LinearSVC()\n",
    "            model1.fit(train_corpus_tf_idf,y_train)\n",
    "            result1 = model1.predict(test_corpus_tf_idf)\n",
    "            \n",
    "                \n",
    "            #totalMatSvm = totalMatSvm + confusion_matrix(y_test, result1)\n",
    "            totalsvm = totalsvm+sum(y_test==result1)\n",
    "\n",
    "        score = totalsvm / nr_lines_total\n",
    "        scores.append(score)\n",
    "        \n",
    "        if(score > best_score):\n",
    "            best_min_df = min_df\n",
    "            best_max_df = max_df\n",
    "            best_score = score\n",
    "        \n",
    "            print(\"\\n\",\"Best score: \", best_score, \"\\n\",\n",
    "                  \"With min_df:\", min_df, \" and \",\n",
    "                  \"Max_df:\", max_df,\"\\n\")\n",
    "        \n",
    "        end = time.time()\n",
    "        print(\"Run: \", run, \"Time in sec: \", end-start)\n",
    "        "
   ]
  },
  {
   "cell_type": "markdown",
   "metadata": {},
   "source": [
    "Pick best parameters from gird-search above"
   ]
  },
  {
   "cell_type": "code",
   "execution_count": null,
   "metadata": {
    "collapsed": true
   },
   "outputs": [],
   "source": [
    "start = time.time()\n",
    "\n",
    "#### CREATING TEST CORPUS ####\n",
    "\n",
    "test_corpus = []\n",
    "\n",
    "with open(test_set,'rb') as infile:\n",
    "    for line in infile:\n",
    "        test_corpus.append(line)\n",
    "        \n",
    "        \n",
    "##############################\n",
    "\n",
    "#Making pos/neg labels, setting pos = 1 and neg = 0 \n",
    "labels = np.zeros(nr_lines_total);\n",
    "labels[0:nr_pos_lines]=1;\n",
    "labels[nr_pos_lines:nr_lines_total]=-1;\n",
    "\n",
    "vectorizer = TfidfVectorizer(\n",
    "    min_df=9, # removing word that occure less then 10 times \n",
    "    max_df = 0.8, # remove words that are too frequent ( more then 0.8 * number of files )\n",
    "    sublinear_tf=True, # scale the term frequency in logarithmic scale\n",
    "    use_idf =True\n",
    "    #stop_words = 'english' # Removing stop-words\n",
    ")\n",
    "\n",
    "end = time.time()\n",
    "\n",
    "print(\"Time in min:\", end-start)\n"
   ]
  },
  {
   "cell_type": "code",
   "execution_count": null,
   "metadata": {
    "collapsed": true
   },
   "outputs": [],
   "source": [
    "#CLASSIFYING WITH SVM\n",
    "model = LinearSVC()"
   ]
  },
  {
   "cell_type": "code",
   "execution_count": null,
   "metadata": {
    "collapsed": true
   },
   "outputs": [],
   "source": [
    "start = time.time()\n",
    "\n",
    "#VECTORIZING ( Basically the preprocessing, see: TfidfVectorizer)\n",
    "train_corpus_fittrans = vectorizer.fit_transform(corpus) \n",
    "test_corpus_trans = vectorizer.transform(test_corpus)\n",
    "\n",
    "elapsed = time.time()\n",
    "\n",
    "print (\"Time in min:\", (elapsed - start) / 60 )"
   ]
  },
  {
   "cell_type": "code",
   "execution_count": null,
   "metadata": {
    "collapsed": true
   },
   "outputs": [],
   "source": [
    "start = time.time()\n",
    "\n",
    "# FITTING THE MODEL\n",
    "model.fit(train_corpus_fittrans, labels)\n",
    "\n",
    "elapsed = time.time()\n",
    "print (\"Time in min:\", (elapsed - start) / 60 )"
   ]
  },
  {
   "cell_type": "code",
   "execution_count": null,
   "metadata": {
    "collapsed": true
   },
   "outputs": [],
   "source": [
    "start = time.time()\n",
    "\n",
    "#PREDICTING\n",
    "submission_prediction = model.predict(test_corpus_trans)\n",
    "\n",
    "elapsed = time.time()\n",
    "print (\"Time in min:\", (elapsed - start) / 60 )"
   ]
  },
  {
   "cell_type": "code",
   "execution_count": null,
   "metadata": {
    "collapsed": true
   },
   "outputs": [],
   "source": [
    "start = time.time()\n",
    "\n",
    "#CREATING SUBMISSION\n",
    "ids = list(range(1,nr_lines_total+1))\n",
    "y_pred = submission_prediction\n",
    "name = \"keggle_submission_4.csv\"\n",
    "\n",
    "create_csv_submission(ids, y_pred, name)\n",
    "\n",
    "elapsed = time.time()\n",
    "print (\"Time in min:\", (elapsed - start) / 60 )"
   ]
  },
  {
   "cell_type": "code",
   "execution_count": null,
   "metadata": {
    "collapsed": true
   },
   "outputs": [],
   "source": [
    "def create_csv_submission(ids, y_pred, name):\n",
    "    \"\"\"\n",
    "    Creates an output file in csv format for submission to kaggle\n",
    "    Arguments: ids (event ids associated with each prediction)\n",
    "               y_pred (predicted class labels)\n",
    "               name (string name of .csv output file to be created)\n",
    "    \"\"\"\n",
    "    with open(name, 'w') as csvfile:\n",
    "        fieldnames = ['Id', 'Prediction']\n",
    "        writer = csv.DictWriter(csvfile, delimiter=\",\", fieldnames=fieldnames)\n",
    "        writer.writeheader()\n",
    "        for r1, r2 in zip(ids, y_pred):\n",
    "            writer.writerow({'Id':int(r1),'Prediction':int(r2)})"
   ]
  },
  {
   "cell_type": "code",
   "execution_count": null,
   "metadata": {
    "collapsed": true
   },
   "outputs": [],
   "source": []
  },
  {
   "cell_type": "code",
   "execution_count": null,
   "metadata": {
    "collapsed": true
   },
   "outputs": [],
   "source": []
  }
 ],
 "metadata": {
  "kernelspec": {
   "display_name": "Python 3",
   "language": "python",
   "name": "python3"
  },
  "language_info": {
   "codemirror_mode": {
    "name": "ipython",
    "version": 3
   },
   "file_extension": ".py",
   "mimetype": "text/x-python",
   "name": "python",
   "nbconvert_exporter": "python",
   "pygments_lexer": "ipython3",
   "version": "3.6.1"
  }
 },
 "nbformat": 4,
 "nbformat_minor": 2
}
