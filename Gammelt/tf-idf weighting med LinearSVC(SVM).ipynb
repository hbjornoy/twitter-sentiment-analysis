{
 "cells": [
  {
   "cell_type": "code",
   "execution_count": 2,
   "metadata": {
    "collapsed": true
   },
   "outputs": [],
   "source": [
    "# Imports and stuff\n",
    "import os\n",
    "import time\n",
    "import csv\n",
    "\n",
    "#Libraries\n",
    "import numpy as np\n",
    "from sklearn.naive_bayes import MultinomialNB\n",
    "from sklearn.naive_bayes import BernoulliNB\n",
    "from sklearn.feature_extraction import stop_words\n",
    "from sklearn.metrics import confusion_matrix\n",
    "from sklearn.svm import LinearSVC\n",
    "from sklearn.svm import SVC\n",
    "from sklearn.svm import NuSVC\n",
    "\n",
    "from sklearn.feature_extraction.text import TfidfVectorizer\n",
    "from sklearn.model_selection import StratifiedKFold\n",
    "\n",
    "#Powerpuff-stuff\n",
    "import helpers as HL\n",
    "import tolken as TO\n",
    "import preprocessing as PP"
   ]
  },
  {
   "cell_type": "markdown",
   "metadata": {},
   "source": [
    "### Running for local testing\n"
   ]
  },
  {
   "cell_type": "code",
   "execution_count": 2,
   "metadata": {
    "collapsed": true
   },
   "outputs": [],
   "source": [
    "# RUNNING ON TRAINING SET WITH CROSS VALIDATION\n",
    "\n",
    "training_set_pos = \"train_pos.txt\" \n",
    "training_set_neg = \"train_neg.txt\"\n",
    "test_set = \"test_data.txt\"\n",
    "\n",
    "inputfiles=[training_set_pos, training_set_neg]\n",
    "\n",
    "corpus, file_lengths=HL.create_corpus(inputfiles)"
   ]
  },
  {
   "cell_type": "code",
   "execution_count": 3,
   "metadata": {
    "collapsed": true
   },
   "outputs": [],
   "source": [
    "corpus = PP.add_features(corpus)"
   ]
  },
  {
   "cell_type": "code",
   "execution_count": 4,
   "metadata": {
    "collapsed": true
   },
   "outputs": [],
   "source": [
    "corpus = PP.stem_words(corpus)"
   ]
  },
  {
   "cell_type": "code",
   "execution_count": 8,
   "metadata": {
    "collapsed": true
   },
   "outputs": [],
   "source": [
    "my_stopword_list = ['and','to','the','of','in','there']"
   ]
  },
  {
   "cell_type": "code",
   "execution_count": null,
   "metadata": {},
   "outputs": [],
   "source": [
    "nr_pos_lines = 100000\n",
    "nr_lines_total =200000\n",
    "\n",
    "#Making labels, setting pos = 1 and neg = 0 \n",
    "labels = np.zeros(nr_lines_total);\n",
    "labels[0:nr_pos_lines]=1;\n",
    "labels[nr_pos_lines:nr_lines_total]=0;\n",
    "\n",
    "#Variables for measuring accuracy -----------------------\n",
    "\n",
    "totalsvm = 0   # Accuracy measure \n",
    "totalMatSvm = np.zeros((2,2));  # Confusion matrix \n",
    "\n",
    "#Running algorithm with K-fold ---------------------------\n",
    "\n",
    "#Creating K-fold = 10 for cross validation\n",
    "kf = StratifiedKFold(n_splits=5)\n",
    "\n",
    "for train_index, test_index in kf.split(corpus,labels):\n",
    "    \n",
    "    X_train = [corpus[i] for i in train_index]\n",
    "    X_test = [corpus[i] for i in test_index]\n",
    "    \n",
    "    y_train, y_test = labels[train_index], labels[test_index]\n",
    "    \n",
    "    vectorizer = TfidfVectorizer(\n",
    "        min_df = 0.0001, # removing word that occure less then 10 times \n",
    "        max_df = 0.5, # remove words that are too frequent ( more then 0.8 * number of files )\n",
    "        sublinear_tf=True, # scale the term frequency in logarithmic scale\n",
    "        max_features = 3000,\n",
    "        use_idf = False, \n",
    "        stop_words = my_stopword_list,\n",
    "        ngram_range=(1,3)\n",
    "    )\n",
    "    \n",
    "    train_corpus_tf_idf = vectorizer.fit_transform(X_train) \n",
    "    test_corpus_tf_idf = vectorizer.transform(X_test)\n",
    "\n",
    "    model1 = LinearSVC()\n",
    "    model1.fit(train_corpus_tf_idf,y_train)\n",
    "    result1 = model1.predict(test_corpus_tf_idf)\n",
    "    \n",
    "    print(result1)\n",
    "    \n",
    "    totalMatSvm = totalMatSvm + confusion_matrix(y_test, result1)\n",
    "    totalsvm = totalsvm+sum(y_test==result1)\n",
    "    \n",
    "print(totalMatSvm, \"\\n\", \"Total accuracy:\", totalsvm/nr_lines_total)  "
   ]
  },
  {
   "cell_type": "markdown",
   "metadata": {},
   "source": [
    "## FOR KAGGLE DELIVERY"
   ]
  },
  {
   "cell_type": "code",
   "execution_count": 3,
   "metadata": {
    "collapsed": true
   },
   "outputs": [],
   "source": [
    "########### LOADING IN FILES, CREATING CORPUS + LABELS ###########\n",
    "\n",
    "training_set_pos = \"train_pos_full.txt\" \n",
    "training_set_neg = \"train_neg_full.txt\"\n",
    "test_set = \"test_data.txt\"\n",
    "\n",
    "corpus, file_lengths=HL.create_corpus([training_set_pos, training_set_neg])\n",
    "test_corpus, test_coprus_length = HL.create_corpus([test_set])\n",
    "\n",
    "#Couning nr. of lines in pos and neg training_set\n",
    "nr_pos_lines = 1250000\n",
    "nr_neg_lines = 1250000\n",
    "\n",
    "labels = HL.create_labels(nr_neg_lines, nr_pos_lines)"
   ]
  },
  {
   "cell_type": "code",
   "execution_count": 4,
   "metadata": {},
   "outputs": [
    {
     "ename": "TypeError",
     "evalue": "'module' object is not callable",
     "output_type": "error",
     "traceback": [
      "\u001b[1;31m---------------------------------------------------------------------------\u001b[0m",
      "\u001b[1;31mTypeError\u001b[0m                                 Traceback (most recent call last)",
      "\u001b[1;32m<ipython-input-4-2b2038abe054>\u001b[0m in \u001b[0;36m<module>\u001b[1;34m()\u001b[0m\n\u001b[0;32m      9\u001b[0m \u001b[0mtest_corpus\u001b[0m \u001b[1;33m=\u001b[0m \u001b[0mPP\u001b[0m\u001b[1;33m.\u001b[0m\u001b[0mstem_words\u001b[0m\u001b[1;33m(\u001b[0m\u001b[0mtest_corpus\u001b[0m\u001b[1;33m)\u001b[0m\u001b[1;33m\u001b[0m\u001b[0m\n\u001b[0;32m     10\u001b[0m \u001b[1;33m\u001b[0m\u001b[0m\n\u001b[1;32m---> 11\u001b[1;33m \u001b[0mprint\u001b[0m \u001b[1;33m(\u001b[0m\u001b[1;34m\"Time in min:\"\u001b[0m\u001b[1;33m,\u001b[0m \u001b[1;33m(\u001b[0m\u001b[0mtime\u001b[0m\u001b[1;33m-\u001b[0m\u001b[0mtime\u001b[0m\u001b[1;33m(\u001b[0m\u001b[1;33m)\u001b[0m \u001b[1;33m-\u001b[0m \u001b[0mstart\u001b[0m\u001b[1;33m)\u001b[0m \u001b[1;33m/\u001b[0m \u001b[1;36m60\u001b[0m \u001b[1;33m)\u001b[0m\u001b[1;33m\u001b[0m\u001b[0m\n\u001b[0m",
      "\u001b[1;31mTypeError\u001b[0m: 'module' object is not callable"
     ]
    }
   ],
   "source": [
    "start = time.time()\n",
    "\n",
    "########### PREPROCESSING ###########\n",
    "\n",
    "corpus = PP.add_features(corpus)\n",
    "corpus = PP.stem_words(corpus)\n",
    "\n",
    "test_corpus = PP.add_features(test_corpus)\n",
    "test_corpus = PP.stem_words(test_corpus)\n",
    "\n",
    "print (\"Time in min:\", (time.time() - start) / 60 )"
   ]
  },
  {
   "cell_type": "code",
   "execution_count": 6,
   "metadata": {
    "collapsed": true
   },
   "outputs": [],
   "source": [
    "############ SELECTING MODEL ###########\n",
    "model = LinearSVC()"
   ]
  },
  {
   "cell_type": "code",
   "execution_count": 9,
   "metadata": {
    "collapsed": true
   },
   "outputs": [],
   "source": [
    "########### DEFINING TF-IDF VECTORIZER ###########\n",
    "vectorizer = TfidfVectorizer(\n",
    "        min_df = 0.0001, # removing word that occure less then 10 times \n",
    "        max_df = 0.5, # remove words that are too frequent ( more then 0.8 * number of files )\n",
    "        sublinear_tf=True, # scale the term frequency in logarithmic scale\n",
    "        max_features = 3000,\n",
    "        use_idf = False, \n",
    "        stop_words = my_stopword_list,\n",
    "        ngram_range=(1,3)\n",
    ")"
   ]
  },
  {
   "cell_type": "code",
   "execution_count": 10,
   "metadata": {},
   "outputs": [
    {
     "name": "stdout",
     "output_type": "stream",
     "text": [
      "Time in min: 9.949413025379181\n"
     ]
    }
   ],
   "source": [
    "start = time.time()\n",
    "\n",
    "train_corpus_fittrans = vectorizer.fit_transform(corpus) \n",
    "\n",
    "test_corpus_trans = vectorizer.transform(test_corpus)\n",
    "\n",
    "print (\"Time in min:\", (time.time() - start) / 60 )"
   ]
  },
  {
   "cell_type": "code",
   "execution_count": 11,
   "metadata": {},
   "outputs": [
    {
     "name": "stdout",
     "output_type": "stream",
     "text": [
      "Time in min: 25.166172846158346\n"
     ]
    }
   ],
   "source": [
    "start = time.time()\n",
    "\n",
    "# FITTING THE MODEL\n",
    "model.fit(train_corpus_fittrans, labels)\n",
    "\n",
    "elapsed = time.time()\n",
    "print (\"Time in min:\", (elapsed - start) / 60 )"
   ]
  },
  {
   "cell_type": "code",
   "execution_count": 12,
   "metadata": {},
   "outputs": [
    {
     "name": "stdout",
     "output_type": "stream",
     "text": [
      "[ 0.  0.  0. ...,  0.  1.  0.]\n",
      "Time in min: 0.0017548521359761556\n"
     ]
    }
   ],
   "source": [
    "start = time.time()\n",
    "\n",
    "#PREDICTING\n",
    "submission_prediction = model.predict(test_corpus_trans)\n",
    "print(submission_prediction)\n",
    "\n",
    "elapsed = time.time()\n",
    "print (\"Time in min:\", (elapsed - start) / 60 )"
   ]
  },
  {
   "cell_type": "code",
   "execution_count": 14,
   "metadata": {
    "collapsed": true
   },
   "outputs": [],
   "source": [
    "submission_prediction = [-1 if val==0 else val for val in submission_prediction]"
   ]
  },
  {
   "cell_type": "code",
   "execution_count": 16,
   "metadata": {},
   "outputs": [
    {
     "name": "stdout",
     "output_type": "stream",
     "text": [
      "Time in min: 0.0017630338668823242\n"
     ]
    }
   ],
   "source": [
    "start = time.time()\n",
    "\n",
    "#CREATING SUBMISSION\n",
    "ids = list(range(1,10000+1))\n",
    "y_pred = submission_prediction\n",
    "name = \"keggle_submission_idftf_full.csv\"\n",
    "\n",
    "HL.create_csv_submission(ids, y_pred, name)\n",
    "\n",
    "elapsed = time.time()\n",
    "print (\"Time in min:\", (elapsed - start) / 60 )"
   ]
  },
  {
   "cell_type": "code",
   "execution_count": null,
   "metadata": {
    "collapsed": true
   },
   "outputs": [],
   "source": []
  },
  {
   "cell_type": "code",
   "execution_count": null,
   "metadata": {
    "collapsed": true
   },
   "outputs": [],
   "source": []
  },
  {
   "cell_type": "code",
   "execution_count": null,
   "metadata": {
    "collapsed": true
   },
   "outputs": [],
   "source": []
  },
  {
   "cell_type": "code",
   "execution_count": null,
   "metadata": {
    "collapsed": true
   },
   "outputs": [],
   "source": []
  }
 ],
 "metadata": {
  "kernelspec": {
   "display_name": "Python 3",
   "language": "python",
   "name": "python3"
  },
  "language_info": {
   "codemirror_mode": {
    "name": "ipython",
    "version": 3
   },
   "file_extension": ".py",
   "mimetype": "text/x-python",
   "name": "python",
   "nbconvert_exporter": "python",
   "pygments_lexer": "ipython3",
   "version": "3.6.1"
  }
 },
 "nbformat": 4,
 "nbformat_minor": 2
}
