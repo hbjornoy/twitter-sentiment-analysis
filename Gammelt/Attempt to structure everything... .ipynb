{
 "cells": [
  {
   "cell_type": "code",
   "execution_count": 1,
   "metadata": {
    "collapsed": true
   },
   "outputs": [],
   "source": [
    "# Imports and stuff\n",
    "import os\n",
    "import time\n",
    "import csv\n",
    "\n",
    "#Libraries\n",
    "import numpy as np\n",
    "from sklearn.naive_bayes import MultinomialNB\n",
    "from sklearn.naive_bayes import BernoulliNB\n",
    "from sklearn.feature_extraction import stop_words\n",
    "from sklearn.metrics import confusion_matrix\n",
    "from sklearn.svm import LinearSVC\n",
    "from sklearn.feature_extraction.text import TfidfVectorizer\n",
    "from sklearn.model_selection import StratifiedKFold\n",
    "\n",
    "#Powerpuff-stuff\n",
    "import helpers as HL\n",
    "\n",
    "import cleaning as CL\n",
    "\n",
    "import tolken as TO"
   ]
  },
  {
   "cell_type": "markdown",
   "metadata": {},
   "source": [
    "# Defining paths for data: "
   ]
  },
  {
   "cell_type": "code",
   "execution_count": 2,
   "metadata": {
    "collapsed": true
   },
   "outputs": [],
   "source": [
    "# RUNNING ON TRAINING SET WITH CROSS VALIDATION\n",
    "\n",
    "training_set_pos = \"train_pos.txt\" \n",
    "training_set_neg = \"train_neg.txt\"\n",
    "training_set_full = \"train_full.txt\"\n",
    "test_set = \"test_data.txt\""
   ]
  },
  {
   "cell_type": "markdown",
   "metadata": {},
   "source": [
    "# Creating corpus with training data:"
   ]
  },
  {
   "cell_type": "code",
   "execution_count": 3,
   "metadata": {
    "collapsed": true
   },
   "outputs": [],
   "source": [
    "inputfiles=[training_set_pos, training_set_neg]\n",
    "\n",
    "original_corpus, file_lengths=HL.create_corpus(inputfiles)"
   ]
  },
  {
   "cell_type": "code",
   "execution_count": 4,
   "metadata": {},
   "outputs": [
    {
     "name": "stdout",
     "output_type": "stream",
     "text": [
      "b'<user> i dunno justin read my mention or not . only justin and god knows about that , but i hope you will follow me #believe 15\\n'\n"
     ]
    }
   ],
   "source": [
    "print(original_corpus[0])"
   ]
  },
  {
   "cell_type": "code",
   "execution_count": 5,
   "metadata": {},
   "outputs": [
    {
     "name": "stdout",
     "output_type": "stream",
     "text": [
      "200000\n"
     ]
    }
   ],
   "source": [
    "print(len(original_corpus))"
   ]
  },
  {
   "cell_type": "markdown",
   "metadata": {},
   "source": [
    "# Creating corresponding labels: "
   ]
  },
  {
   "cell_type": "code",
   "execution_count": 6,
   "metadata": {
    "collapsed": true
   },
   "outputs": [],
   "source": [
    "nr_pos_lines=file_lengths[0]\n",
    "nr_neg_lines=file_lengths[1]\n",
    "\n",
    "nr_lines_total=sum(file_lengths)\n",
    "\n",
    "labels=HL.create_labels(nr_pos_lines,nr_neg_lines)"
   ]
  },
  {
   "cell_type": "markdown",
   "metadata": {},
   "source": [
    "# Testing tolken"
   ]
  },
  {
   "cell_type": "code",
   "execution_count": 7,
   "metadata": {},
   "outputs": [],
   "source": [
    "tolken_corpus=TO.replace_words(original_corpus)"
   ]
  },
  {
   "cell_type": "markdown",
   "metadata": {},
   "source": [
    "# Defining stoppingwords and removing them"
   ]
  },
  {
   "cell_type": "code",
   "execution_count": 8,
   "metadata": {
    "collapsed": true
   },
   "outputs": [],
   "source": [
    "#Defining the list: \n",
    "#sklearn_stops = stop_words.ENGLISH_STOP_WORDS\n",
    "#custom_stop_words = set(sklearn_stops)\n",
    "#negation_words = set([\"neither\", \"nor\", \"not\", \"either\", \"never\", \"no\", \"nobody\", \"nothing\",\n",
    "#                     \"nowhere\", \"none\", \"little\", \"few\", \"rarely\", \"hardly\", \"seldom\", \"only\",\n",
    "#                     \"can't\", \"cannot\", \"without\", \"noone\"])\n",
    "#tweet_words = set([\"<user>\",\"<url>\"])\n",
    "#custom_stop_words = custom_stop_words- negation_words\n",
    "#custom_stop_words = custom_stop_words.union(tweet_words)- negation_words\n",
    "\n",
    "\n",
    "custom_stop_words=set([\"the\",\"is\",\"<url>\",\"<user>\",\".\",\",\"])"
   ]
  },
  {
   "cell_type": "code",
   "execution_count": 9,
   "metadata": {
    "collapsed": true
   },
   "outputs": [],
   "source": [
    "#removing the stopwords:\n",
    "stop_words_removed_corpus=CL.remove_stopwords(tolken_corpus, custom_stop_words)"
   ]
  },
  {
   "cell_type": "code",
   "execution_count": 10,
   "metadata": {},
   "outputs": [
    {
     "name": "stdout",
     "output_type": "stream",
     "text": [
      "b'1dnextalbumtitle feel for you / rollercoast of life song cocept life yolo becom famou ? heart followmeplz ! heart x15 exclamation hashtag thereisanumber'\n"
     ]
    }
   ],
   "source": [
    "print(stop_words_removed_corpus[6])"
   ]
  },
  {
   "cell_type": "markdown",
   "metadata": {},
   "source": [
    "# Creating cluster dictionary and setting words to their cluster ID"
   ]
  },
  {
   "cell_type": "code",
   "execution_count": 11,
   "metadata": {
    "collapsed": true
   },
   "outputs": [],
   "source": [
    "#creating dictionary\n",
    "cluster_file=\"50mpaths2.txt\"\n",
    "cluster_dictionary=CL.create_dictionary(cluster_file)"
   ]
  },
  {
   "cell_type": "code",
   "execution_count": 12,
   "metadata": {
    "collapsed": true
   },
   "outputs": [],
   "source": [
    "#setting words to their cluster ID\n",
    "clusteded_corpus=CL.create_clusterized_corpus(tolken_corpus,cluster_dictionary) #stop_words_removed_corpus, cluster_dictionary)"
   ]
  },
  {
   "cell_type": "code",
   "execution_count": 13,
   "metadata": {},
   "outputs": [
    {
     "name": "stdout",
     "output_type": "stream",
     "text": [
      "b'<user> 0000 011110101100 1110011001111 01011000111 110110 01010101001 1001100 001000 00101100 1110011001111 100110111 1110011001110 010001001 0110111010 011010100 011010000 0000 01000111110 01110100 001110111 010110100 01110010 010001011101 1111011111010010 thereisanumber'\n"
     ]
    }
   ],
   "source": [
    "print(clusteded_corpus[0])"
   ]
  },
  {
   "cell_type": "markdown",
   "metadata": {},
   "source": [
    "# Want to implement n-grams"
   ]
  },
  {
   "cell_type": "code",
   "execution_count": 14,
   "metadata": {
    "collapsed": true
   },
   "outputs": [],
   "source": [
    "n_grams=2\n",
    "n_grams_corpus=HL.creating_n_grams_cropus(n_grams, tolken_corpus)\n"
   ]
  },
  {
   "cell_type": "code",
   "execution_count": 15,
   "metadata": {},
   "outputs": [
    {
     "name": "stdout",
     "output_type": "stream",
     "text": [
      "b'<user> i dunno justin read my mention or not onli justin and god know about that but i hope you will follow me believe hashtag thereisanumber _-<user> <user>-i i-dunno dunno-justin justin-read read-my my-mention mention-or or-not not-onli onli-justin justin-and and-god god-know know-about about-that that-but but-i i-hope hope-you you-will will-follow follow-me me-believe believe-hashtag hashtag-thereisanumber thereisanumber-_'\n"
     ]
    }
   ],
   "source": [
    "print(n_grams_corpus[0])"
   ]
  },
  {
   "cell_type": "markdown",
   "metadata": {},
   "source": [
    "# Starting to do shit"
   ]
  },
  {
   "cell_type": "code",
   "execution_count": 16,
   "metadata": {
    "collapsed": true
   },
   "outputs": [],
   "source": [
    "#picking corpus\n",
    "#corpuses=[original_corpus,stop_words_removed_corpus,clusteded_corpus, n_grams_corpus]\n",
    "corpuses=[original_corpus, tolken_corpus,stop_words_removed_corpus,clusteded_corpus, n_grams_corpus]"
   ]
  },
  {
   "cell_type": "code",
   "execution_count": 17,
   "metadata": {
    "collapsed": true
   },
   "outputs": [],
   "source": [
    "#Variables for measuring accuracy -----------------------\n",
    "\n",
    "totalsvm = 0   # Accuracy measure \n",
    "totalMatSvm = np.zeros((2,2));  # Confusion matrix "
   ]
  },
  {
   "cell_type": "code",
   "execution_count": 18,
   "metadata": {},
   "outputs": [
    {
     "name": "stdout",
     "output_type": "stream",
     "text": [
      "[ 0.  0.  1. ...,  0.  0.  0.]\n",
      "[ 1.  1.  1. ...,  0.  0.  0.]\n",
      "[ 0.  1.  0. ...,  0.  0.  0.]\n",
      "[[ 76839.  23161.]\n",
      " [ 18194.  81806.]] \n",
      " Total accuracy: 0.793225\n",
      "[ 0.  1.  1. ...,  0.  0.  0.]\n",
      "[ 1.  1.  1. ...,  0.  0.  0.]\n",
      "[ 1.  1.  0. ...,  0.  0.  0.]\n",
      "[[ 77118.  22882.]\n",
      " [ 18046.  81954.]] \n",
      " Total accuracy: 0.79536\n",
      "[ 0.  1.  1. ...,  0.  0.  0.]\n",
      "[ 1.  1.  1. ...,  0.  0.  0.]\n",
      "[ 1.  1.  0. ...,  0.  0.  0.]\n",
      "[[ 76899.  23101.]\n",
      " [ 18109.  81891.]] \n",
      " Total accuracy: 0.79395\n",
      "[ 1.  0.  1. ...,  0.  1.  0.]\n",
      "[ 1.  0.  1. ...,  1.  1.  0.]\n",
      "[ 0.  1.  0. ...,  0.  0.  0.]\n",
      "[[ 75984.  24016.]\n",
      " [ 19544.  80456.]] \n",
      " Total accuracy: 0.7822\n",
      "[ 0.  1.  1. ...,  0.  0.  0.]\n",
      "[ 1.  1.  1. ...,  0.  0.  0.]\n",
      "[ 1.  1.  0. ...,  0.  0.  0.]\n",
      "[[ 77035.  22965.]\n",
      " [ 17956.  82044.]] \n",
      " Total accuracy: 0.795395\n"
     ]
    }
   ],
   "source": [
    "for corpus in corpuses: \n",
    "    #Variables for measuring accuracy -----------------------\n",
    "\n",
    "    totalsvm = 0   # Accuracy measure \n",
    "    totalMatSvm = np.zeros((2,2));  # Confusion matrix \n",
    "\n",
    "    #Running algorithm with K-fold ---------------------------\n",
    "\n",
    "    #Creating K-fold = 10 for cross validation\n",
    "    kf = StratifiedKFold(n_splits=3)\n",
    "\n",
    "    for train_index, test_index in kf.split(corpus,labels):\n",
    "\n",
    "        X_train = [corpus[i]for i in train_index]\n",
    "        X_test  = [corpus[i]for i in test_index]\n",
    "        y_train, y_test = labels[train_index], labels[test_index]\n",
    "\n",
    "        vectorizer = TfidfVectorizer(\n",
    "            min_df=10, # removing word that occure less then 10 times \n",
    "            max_df = 0.9, # remove words that are too frequent ( more then 0.8 * number of tweets )\n",
    "            sublinear_tf=True, # scale the term frequency in logarithmic scale\n",
    "            use_idf =True\n",
    "        )\n",
    "        train_corpus_tf_idf = vectorizer.fit_transform(X_train) \n",
    "        test_corpus_tf_idf = vectorizer.transform(X_test)\n",
    "\n",
    "        model1 = LinearSVC()\n",
    "        model1.fit(train_corpus_tf_idf,y_train)\n",
    "        result1 = model1.predict(test_corpus_tf_idf)\n",
    "\n",
    "        print(result1)\n",
    "\n",
    "        totalMatSvm = totalMatSvm + confusion_matrix(y_test, result1)\n",
    "        totalsvm = totalsvm+sum(y_test==result1)\n",
    "\n",
    "    print(totalMatSvm, \"\\n\", \"Total accuracy:\", totalsvm/nr_lines_total)  \n"
   ]
  },
  {
   "cell_type": "code",
   "execution_count": null,
   "metadata": {},
   "outputs": [
    {
     "name": "stdout",
     "output_type": "stream",
     "text": [
      "Best score:  0.781805 \n",
      " With min_df: 4  and  Max_df: 0.1\n",
      "Best score:  0.789835 \n",
      " With min_df: 4  and  Max_df: 0.235714285714\n",
      "Best score:  0.79025 \n",
      " With min_df: 4  and  Max_df: 0.371428571429\n",
      "Best score:  0.790645 \n",
      " With min_df: 4  and  Max_df: 0.507142857143\n",
      "Best score:  0.791085 \n",
      " With min_df: 4  and  Max_df: 0.642857142857\n"
     ]
    }
   ],
   "source": [
    "import gridsearch as GS\n",
    "\n",
    "GS.gridsearch(n_grams_corpus,labels,nr_lines_total)"
   ]
  },
  {
   "cell_type": "markdown",
   "metadata": {},
   "source": [
    "# Kaggle delivery:"
   ]
  },
  {
   "cell_type": "code",
   "execution_count": null,
   "metadata": {
    "collapsed": true
   },
   "outputs": [],
   "source": [
    "# DATA READING\n",
    "start = time.time()\n",
    "training_set_pos = \"train_pos_full.txt\" \n",
    "training_set_neg = \"train_neg_full.txt\"\n",
    "\n",
    "test_set = \"test_data.txt\"\n",
    "\n",
    "elapsed = time.time()\n",
    "\n",
    "print (\"Time in min:\", (elapsed - start) / 60 )"
   ]
  },
  {
   "cell_type": "code",
   "execution_count": null,
   "metadata": {
    "collapsed": true
   },
   "outputs": [],
   "source": [
    "start = time.time()\n",
    "## Defining parameters for preprocessing:\n",
    "custom_stop_words=set([\"the\",\"is\",\"<url>\",\"<user>\",\".\",\",\"])\n",
    "\n",
    "#creating dictionary\n",
    "cluster_file=\"50mpaths2.txt\"\n",
    "cluster_dictionary=CL.create_dictionary(cluster_file)\n",
    "\n",
    "#picking number of in n-grams\n",
    "n_grams=2\n",
    "\n",
    "\n",
    "elapsed = time.time()\n",
    "print (\"Time in min:\", (elapsed - start) / 60 )"
   ]
  },
  {
   "cell_type": "code",
   "execution_count": null,
   "metadata": {
    "collapsed": true
   },
   "outputs": [],
   "source": [
    "start = time.time()\n",
    "\n",
    "#### CREATING TRAINING CORPUS #### \n",
    "#original corpus:\n",
    "inputfiles_train=[training_set_pos, training_set_neg]\n",
    "original_corpus_train, file_lengths_train=HL.create_corpus(inputfiles_train)\n",
    "\n",
    "#remove stopwords\n",
    "#stop_words_removed_corpus_train=CL.remove_stopwords(original_corpus_train, custom_stop_words)\n",
    "\n",
    "#using clusters\n",
    "clusteded_corpus_train=CL.create_clusterized_corpus(original_corpus_train, cluster_dictionary)\n",
    "#stop_words_removed_corpus_train, cluster_dictionary)\n",
    "\n",
    "#ngrams:\n",
    "n_grams_corpus_train=HL.creating_n_grams_cropus(n_grams, clusteded_corpus_train)\n",
    "\n",
    "\n",
    "elapsed = time.time()\n",
    "print (\"Time in min:\", (elapsed - start) / 60 )"
   ]
  },
  {
   "cell_type": "code",
   "execution_count": null,
   "metadata": {
    "collapsed": true
   },
   "outputs": [],
   "source": [
    "start = time.time()\n",
    "\n",
    "#### CREATING TEST CORPUS #### \n",
    "#original corpus:\n",
    "inputfiles_test=[test_set]\n",
    "original_corpus_test, file_lengths_test=HL.create_corpus(inputfiles_test)\n",
    "\n",
    "#remove stopwords\n",
    "#stop_words_removed_corpus_test=CL.remove_stopwords(original_corpus_test, custom_stop_words)\n",
    "\n",
    "#using clusters\n",
    "clusteded_corpus_test=CL.create_clusterized_corpus(original_corpus_test,cluster_dictionary)#stop_words_removed_corpus_test, cluster_dictionary)\n",
    "\n",
    "#ngrams:\n",
    "n_grams_corpus_test=HL.creating_n_grams_cropus(n_grams, clusteded_corpus_test)\n",
    "\n",
    "\n",
    "elapsed = time.time()\n",
    "print (\"Time in min:\", (elapsed - start) / 60 )"
   ]
  },
  {
   "cell_type": "code",
   "execution_count": null,
   "metadata": {
    "collapsed": true
   },
   "outputs": [],
   "source": [
    "start = time.time()\n",
    "\n",
    "##creating labels\n",
    "nr_pos_lines=file_lengths_train[0]\n",
    "nr_neg_lines=file_lengths_train[1]\n",
    "\n",
    "nr_lines_total=sum(file_lengths_train)\n",
    "\n",
    "labels=HL.create_labels(nr_pos_lines,nr_neg_lines,kaggle=True)\n",
    "\n",
    "\n",
    "elapsed = time.time()\n",
    "print (\"Time in min:\", (elapsed - start) / 60 )"
   ]
  },
  {
   "cell_type": "code",
   "execution_count": null,
   "metadata": {
    "collapsed": true
   },
   "outputs": [],
   "source": [
    "GS.gridsearch(n_grams_corpus_train,labels,nr_lines_total)"
   ]
  },
  {
   "cell_type": "code",
   "execution_count": null,
   "metadata": {
    "collapsed": true
   },
   "outputs": [],
   "source": [
    "start = time.time()\n",
    "\n",
    "vectorizer = TfidfVectorizer(\n",
    "    min_df=10, # removing word that occure less then 10 times \n",
    "    max_df = 0.97, # remove words that are too frequent ( more then 0.8 * number of files )\n",
    "    sublinear_tf=True, # scale the term frequency in logarithmic scale\n",
    "    use_idf =True, \n",
    "    #stop_words = 'english' # Removing stop-words\n",
    ")\n",
    "\n",
    "#CLASSIFYING WITH SVM\n",
    "model = LinearSVC()\n",
    "\n",
    "elapsed = time.time()\n",
    "\n",
    "print (\"Time in min:\", (elapsed - start) / 60 )"
   ]
  },
  {
   "cell_type": "code",
   "execution_count": null,
   "metadata": {
    "collapsed": true
   },
   "outputs": [],
   "source": [
    "start = time.time()\n",
    "\n",
    "#VECTORIZING ( Basically the preprocessing, see: TfidfVectorizer)\n",
    "train_corpus_fittrans = vectorizer.fit_transform(n_grams_corpus_train) \n",
    "test_corpus_trans = vectorizer.transform(n_grams_corpus_test)\n",
    "\n",
    "elapsed = time.time()\n",
    "\n",
    "print (\"Time in min:\", (elapsed - start) / 60 )"
   ]
  },
  {
   "cell_type": "code",
   "execution_count": null,
   "metadata": {
    "collapsed": true
   },
   "outputs": [],
   "source": [
    "start = time.time()\n",
    "\n",
    "# FITTING THE MODEL\n",
    "model.fit(train_corpus_fittrans, labels)\n",
    "\n",
    "elapsed = time.time()\n",
    "print (\"Time in min:\", (elapsed - start) / 60 )"
   ]
  },
  {
   "cell_type": "code",
   "execution_count": null,
   "metadata": {
    "collapsed": true
   },
   "outputs": [],
   "source": [
    "result1 = model.predict(train_corpus_fittrans)"
   ]
  },
  {
   "cell_type": "code",
   "execution_count": null,
   "metadata": {
    "collapsed": true
   },
   "outputs": [],
   "source": [
    "start = time.time()\n",
    "\n",
    "#PREDICTING\n",
    "submission_prediction = model.predict(test_corpus_trans)\n",
    "\n",
    "elapsed = time.time()\n",
    "print (\"Time in min:\", (elapsed - start) / 60 )"
   ]
  },
  {
   "cell_type": "code",
   "execution_count": null,
   "metadata": {
    "collapsed": true
   },
   "outputs": [],
   "source": [
    "print((submission_prediction))"
   ]
  },
  {
   "cell_type": "code",
   "execution_count": null,
   "metadata": {
    "collapsed": true
   },
   "outputs": [],
   "source": [
    "start = time.time()\n",
    "\n",
    "#CREATING SUBMISSION\n",
    "ids = list(range(1,nr_lines_total+1))\n",
    "y_pred = submission_prediction\n",
    "name = \"keggle_submission_cluster_27_11_new.csv\"\n",
    "\n",
    "HL.create_csv_submission(ids, y_pred, name)\n",
    "\n",
    "elapsed = time.time()\n",
    "print (\"Time in min:\", (elapsed - start) / 60 )"
   ]
  },
  {
   "cell_type": "code",
   "execution_count": null,
   "metadata": {
    "collapsed": true
   },
   "outputs": [],
   "source": []
  }
 ],
 "metadata": {
  "kernelspec": {
   "display_name": "Python 3",
   "language": "python",
   "name": "python3"
  },
  "language_info": {
   "codemirror_mode": {
    "name": "ipython",
    "version": 3
   },
   "file_extension": ".py",
   "mimetype": "text/x-python",
   "name": "python",
   "nbconvert_exporter": "python",
   "pygments_lexer": "ipython3",
   "version": "3.6.1"
  }
 },
 "nbformat": 4,
 "nbformat_minor": 2
}
