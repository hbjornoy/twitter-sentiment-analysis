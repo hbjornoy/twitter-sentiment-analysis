{
 "cells": [
  {
   "cell_type": "code",
   "execution_count": 1,
   "metadata": {},
   "outputs": [
    {
     "name": "stderr",
     "output_type": "stream",
     "text": [
      "Using TensorFlow backend.\n",
      "/Users/HeddaVik/anaconda/lib/python3.6/importlib/_bootstrap.py:205: RuntimeWarning: compiletime version 3.5 of module 'tensorflow.python.framework.fast_tensor_util' does not match runtime version 3.6\n",
      "  return f(*args, **kwds)\n"
     ]
    }
   ],
   "source": [
    "\n",
    "#Libraries\n",
    "import numpy as np\n",
    "from collections import Counter\n",
    "from sklearn.feature_extraction.text import CountVectorizer\n",
    "    \n",
    "#Powerpuff-stuff\n",
    "import helpers as HL\n",
    "import dataanalysis as DA"
   ]
  },
  {
   "cell_type": "markdown",
   "metadata": {},
   "source": [
    "# Defining data paths"
   ]
  },
  {
   "cell_type": "code",
   "execution_count": 2,
   "metadata": {
    "collapsed": true
   },
   "outputs": [],
   "source": [
    "training_set_pos = \"train_pos.txt\" \n",
    "training_set_neg = \"train_neg.txt\"\n",
    "training_set_pos_full = \"train_pos_full.txt\" \n",
    "training_set_neg_full= \"train_neg_full.txt\""
   ]
  },
  {
   "cell_type": "markdown",
   "metadata": {},
   "source": [
    "# Creating negative and positive corpus: "
   ]
  },
  {
   "cell_type": "code",
   "execution_count": 3,
   "metadata": {
    "collapsed": true
   },
   "outputs": [],
   "source": [
    "inputfiles_pos=[training_set_pos_full]\n",
    "inputfiles_neg=[training_set_neg_full]\n",
    "\n",
    "pos_corpus_org, file_length_pos=HL.create_corpus(inputfiles_pos)\n",
    "neg_corpus_org, file_length_neg=HL.create_corpus(inputfiles_neg)"
   ]
  },
  {
   "cell_type": "markdown",
   "metadata": {},
   "source": [
    "# Adding a special word in each tweet that contains a number"
   ]
  },
  {
   "cell_type": "code",
   "execution_count": 4,
   "metadata": {
    "collapsed": true
   },
   "outputs": [],
   "source": [
    "new_corpus_pos=DA.indicate_number(pos_corpus_org)\n",
    "new_corpus_neg=DA.indicate_number(neg_corpus_org)"
   ]
  },
  {
   "cell_type": "markdown",
   "metadata": {},
   "source": [
    "# Changing the data type in the corpuses from binary to strings"
   ]
  },
  {
   "cell_type": "code",
   "execution_count": 5,
   "metadata": {
    "collapsed": true
   },
   "outputs": [],
   "source": [
    "corpus_pos=DA.corpus_to_strings(new_corpus_pos)\n",
    "corpus_neg=DA.corpus_to_strings(new_corpus_neg)"
   ]
  },
  {
   "cell_type": "markdown",
   "metadata": {},
   "source": [
    "# Want to investigate use of seperate signs in the data:"
   ]
  },
  {
   "cell_type": "code",
   "execution_count": 6,
   "metadata": {
    "collapsed": true
   },
   "outputs": [],
   "source": [
    "pos_characters=DA.string_to_char(corpus_pos)#,pos_numbers,pos_tweet_number\n",
    "neg_characters=DA.string_to_char(corpus_neg)#,neg_numbers,neg_tweet_number"
   ]
  },
  {
   "cell_type": "code",
   "execution_count": 7,
   "metadata": {
    "collapsed": true
   },
   "outputs": [],
   "source": [
    "pos_counter=Counter(pos_characters)\n",
    "neg_counter=Counter(neg_characters)"
   ]
  },
  {
   "cell_type": "code",
   "execution_count": 8,
   "metadata": {
    "collapsed": true
   },
   "outputs": [],
   "source": [
    "characters=['#','!','@','.',':','-','\\\\','<','3','+','^','$','=','*']"
   ]
  },
  {
   "cell_type": "code",
   "execution_count": 9,
   "metadata": {},
   "outputs": [
    {
     "name": "stdout",
     "output_type": "stream",
     "text": [
      "percentage of  # in pos 0.5950971710863587 this is percentage in pos 0.1736584\n",
      "percentage of  ! in pos 0.6325332838169171 this is percentage in pos 0.5068808\n",
      "percentage of  @ in pos 0.6207422470767666 this is percentage in pos 0.0029304\n",
      "percentage of  . in pos 0.31778840663514674 this is percentage in pos 0.6656368\n",
      "percentage of  : in pos 0.34675836597464327 this is percentage in pos 0.0669976\n",
      "percentage of  - in pos 0.1935255029652237 this is percentage in pos 0.0606704\n",
      "percentage of  \\ in pos 0.48826173826173824 this is percentage in pos 0.001564\n",
      "percentage of  < in pos 0.5310589124527089 this is percentage in pos 0.9431704\n",
      "percentage of  3 in pos 0.30293974838248705 this is percentage in pos 0.0613928\n",
      "percentage of  + in pos 0.3708765315739868 this is percentage in pos 0.0037776\n",
      "percentage of  ^ in pos 0.7266261668395317 this is percentage in pos 0.0078464\n",
      "percentage of  $ in pos 0.38443766749838276 this is percentage in pos 0.003328\n",
      "percentage of  = in pos 0.5018071299490718 this is percentage in pos 0.0048872\n",
      "percentage of  * in pos 0.5253039457000075 this is percentage in pos 0.0225368\n"
     ]
    }
   ],
   "source": [
    "DA.compare_set_char(neg_counter,pos_counter,characters)"
   ]
  },
  {
   "cell_type": "markdown",
   "metadata": {},
   "source": [
    "# Want to investigate use of interesting words in data"
   ]
  },
  {
   "cell_type": "code",
   "execution_count": 10,
   "metadata": {
    "collapsed": true
   },
   "outputs": [],
   "source": [
    "vectorizer_pos = CountVectorizer(strip_accents=None,token_pattern='\\\\b\\\\w+\\\\b',)\n",
    "vectorizer_neg = CountVectorizer(strip_accents=None,token_pattern='\\\\b\\\\w+\\\\b',)\n",
    "\n",
    "pos = vectorizer_pos.fit_transform(corpus_pos)\n",
    "neg = vectorizer_neg.fit_transform(corpus_neg)"
   ]
  },
  {
   "cell_type": "code",
   "execution_count": 11,
   "metadata": {},
   "outputs": [
    {
     "name": "stdout",
     "output_type": "stream",
     "text": [
      "percentage of  url in pos 0.43048782478278297\n",
      "percentage of  user in pos 0.4304860080357968\n",
      "percentage of  not in pos 0.4227943012932247\n",
      "percentage of  good in pos 0.39740165181958936\n",
      "percentage of  love in pos 0.41815644007320996\n",
      "percentage of  rt in pos 0.42428624265298936\n",
      "percentage of  thereisanumber in pos 0.4288411616504604\n",
      "percentage of  party in pos 0.42387529459832485\n"
     ]
    }
   ],
   "source": [
    "words=['url','user','not','good','love','rt', 'thereisanumber','party']\n",
    "vec_pos=vectorizer_pos\n",
    "vec_neg=vectorizer_neg\n",
    "DA.compare_sets(words,vec_pos,vec_neg)"
   ]
  },
  {
   "cell_type": "markdown",
   "metadata": {},
   "source": [
    "# Want to investigate length of tweets"
   ]
  },
  {
   "cell_type": "code",
   "execution_count": 12,
   "metadata": {},
   "outputs": [
    {
     "name": "stdout",
     "output_type": "stream",
     "text": [
      "The pos longest tweet has a length of 129 words\n",
      "The pos shortest tweet has a length of 1 words\n",
      "The neg longest tweet has a length of 105 words\n",
      "The neg shortest tweet has a length of 1 words\n"
     ]
    }
   ],
   "source": [
    "print('The pos longest tweet has a length of', len(max((tweet.split(' ') for tweet in corpus_pos), key=len)), 'words')\n",
    "\n",
    "print('The pos shortest tweet has a length of',len(min((tweet.split(' ') for tweet in corpus_pos), key=len)), 'words')\n",
    "\n",
    "print('The neg longest tweet has a length of', len(max((tweet.split(' ') for tweet in corpus_neg), key=len)), 'words')\n",
    "\n",
    "print('The neg shortest tweet has a length of',len(min((tweet.split(' ') for tweet in corpus_neg), key=len)), 'words')"
   ]
  },
  {
   "cell_type": "markdown",
   "metadata": {},
   "source": [
    "# Want to investigate unexpectedly long tweets"
   ]
  },
  {
   "cell_type": "code",
   "execution_count": null,
   "metadata": {},
   "outputs": [],
   "source": [
    "print('This is the longest positive tweet:', (max((tweet.split(' ') for tweet in corpus_pos), key=len)))"
   ]
  },
  {
   "cell_type": "code",
   "execution_count": null,
   "metadata": {},
   "outputs": [],
   "source": [
    "print('This is the longest neg tweet:', (max((tweet.split(' ') for tweet in corpus_neg), key=len)))"
   ]
  },
  {
   "cell_type": "code",
   "execution_count": null,
   "metadata": {
    "collapsed": true
   },
   "outputs": [],
   "source": [
    "total_avg_pos = sum( map(len, (tweet.split(' ') for tweet in corpus_pos)) ) / len(corpus_pos)\n",
    "total_avg_neg = sum( map(len, (tweet.split(' ') for tweet in corpus_neg)) ) / len(corpus_neg)"
   ]
  },
  {
   "cell_type": "code",
   "execution_count": null,
   "metadata": {},
   "outputs": [],
   "source": [
    "print('The average length of pos tweets is',total_avg_pos,'words')\n",
    "print('The average length of neg tweets is',total_avg_neg,'words')"
   ]
  },
  {
   "cell_type": "code",
   "execution_count": null,
   "metadata": {},
   "outputs": [],
   "source": [
    "for tweet in corpus_pos:\n",
    "    if len(tweet)>160: \n",
    "        print(tweet)\n",
    "        print('the length was: ',len(tweet))"
   ]
  },
  {
   "cell_type": "code",
   "execution_count": null,
   "metadata": {},
   "outputs": [],
   "source": [
    "for tweet in corpus_neg:\n",
    "    if len(tweet)>160: \n",
    "        print(tweet)\n",
    "        print('the length was: ',len(tweet))"
   ]
  }
 ],
 "metadata": {
  "kernelspec": {
   "display_name": "Python 3",
   "language": "python",
   "name": "python3"
  },
  "language_info": {
   "codemirror_mode": {
    "name": "ipython",
    "version": 3
   },
   "file_extension": ".py",
   "mimetype": "text/x-python",
   "name": "python",
   "nbconvert_exporter": "python",
   "pygments_lexer": "ipython3",
   "version": "3.6.1"
  }
 },
 "nbformat": 4,
 "nbformat_minor": 2
}
