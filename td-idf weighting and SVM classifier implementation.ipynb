{
 "cells": [
  {
   "cell_type": "code",
   "execution_count": 56,
   "metadata": {},
   "outputs": [],
   "source": [
    "# Imports and stuff\n",
    "import os\n",
    "import time\n",
    "import csv\n",
    "\n",
    "#Libraries\n",
    "import numpy as np\n",
    "from sklearn.naive_bayes import MultinomialNB\n",
    "from sklearn.metrics import confusion_matrix\n",
    "from sklearn.svm import LinearSVC\n",
    "from sklearn.feature_extraction.text import TfidfVectorizer\n",
    "from sklearn.model_selection import StratifiedKFold\n",
    "\n",
    "#Powerpuff-stuff\n",
    "import helpers\n"
   ]
  },
  {
   "cell_type": "markdown",
   "metadata": {},
   "source": [
    "### Running for local testing"
   ]
  },
  {
   "cell_type": "code",
   "execution_count": 58,
   "metadata": {},
   "outputs": [
    {
     "name": "stdout",
     "output_type": "stream",
     "text": [
      "[ 0.  0.  1. ...,  0.  0.  0.]\n",
      "[ 1.  0.  1. ...,  0.  0.  0.]\n",
      "[ 0.  1.  0. ...,  0.  0.  0.]\n",
      "[[ 74396.  25604.]\n",
      " [ 19708.  80292.]] \n",
      " Total accuracy: 0.77344\n"
     ]
    }
   ],
   "source": [
    "# RUNNING ON TRAINING SET WITH CROSS VALIDATION\n",
    "\n",
    "training_set_pos = \"train_pos.txt\" \n",
    "training_set_neg = \"train_neg.txt\"\n",
    "training_set_full = \"train_full.txt\"\n",
    "test_set = \"test_data.txt\"\n",
    "\n",
    "#Couning nr. of lines in pos and neg training_set\n",
    "nr_pos_lines = 0\n",
    "nr_neg_lines = 0\n",
    "\n",
    "#Creating corpus ---------------------------------------\n",
    "corpus = []\n",
    "\n",
    "#Adding lines from positive training set to CORPUS\n",
    "with open(training_set_pos,'rb') as infile:\n",
    "    for line in infile:\n",
    "        corpus.append(line)\n",
    "\n",
    "nr_pos_lines = len(corpus)\n",
    "        \n",
    "#Adding lines from negative training set to CORPUS\n",
    "with open(training_set_neg,'rb') as infile:\n",
    "    for line in infile:\n",
    "        corpus.append(line)\n",
    "        \n",
    "nr_neg_lines = len(corpus) - nr_pos_lines\n",
    "\n",
    "#Finding tot nr. of lines\n",
    "nr_lines_total = nr_pos_lines + nr_neg_lines\n",
    "\n",
    "#Creating labels-array  ---------------------------------    \n",
    "\n",
    "#Making labels, setting pos = 1 and neg = 0 \n",
    "labels = np.zeros(nr_lines_total);\n",
    "labels[0:nr_lines_pos]=1;\n",
    "labels[nr_lines_pos:nr_lines_total]=0;\n",
    "\n",
    "#Variables for measuring accuracy -----------------------\n",
    "\n",
    "totalsvm = 0   # Accuracy measure \n",
    "totalMatSvm = np.zeros((2,2));  # Confusion matrix \n",
    "\n",
    "#Running algorithm with K-fold ---------------------------\n",
    "\n",
    "#Creating K-fold = 10 for cross validation\n",
    "kf = StratifiedKFold(n_splits=3)\n",
    "\n",
    "for train_index, test_index in kf.split(corpus,labels):\n",
    "    \n",
    "    X_train = [corpus[i] for i in train_index]\n",
    "    X_test = [corpus[i] for i in test_index]\n",
    "    \n",
    "    y_train, y_test = labels[train_index], labels[test_index]\n",
    "    \n",
    "    vectorizer = TfidfVectorizer(\n",
    "        min_df=5, # removing word that occure less then 10 times \n",
    "        max_df = 0.8, # remove words that are too frequent ( more then 0.8 * number of files )\n",
    "        sublinear_tf=True, # scale the term frequency in logarithmic scale\n",
    "        use_idf =True, \n",
    "        stop_words = 'english' # Removing stop-words\n",
    "    )\n",
    "    \n",
    "    train_corpus_tf_idf = vectorizer.fit_transform(X_train) \n",
    "    test_corpus_tf_idf = vectorizer.transform(X_test)\n",
    "\n",
    "    model1 = LinearSVC()\n",
    "    model1.fit(train_corpus_tf_idf,y_train)\n",
    "    result1 = model1.predict(test_corpus_tf_idf)\n",
    "    \n",
    "    print(result1)\n",
    "    \n",
    "    totalMatSvm = totalMatSvm + confusion_matrix(y_test, result1)\n",
    "    totalsvm = totalsvm+sum(y_test==result1)\n",
    "    \n",
    "    \n",
    "print(totalMatSvm, \"\\n\", \"Total accuracy:\", totalsvm/nr_lines_total)  \n"
   ]
  },
  {
   "cell_type": "markdown",
   "metadata": {},
   "source": [
    "### Running for keggle delivery"
   ]
  },
  {
   "cell_type": "code",
   "execution_count": 46,
   "metadata": {},
   "outputs": [
    {
     "name": "stdout",
     "output_type": "stream",
     "text": [
      "pos_lines: 1250000\n",
      "neg_lines: 1250000\n",
      "total_lines: 2500000\n",
      "Time in min: 0.01910977760950724\n"
     ]
    }
   ],
   "source": [
    "start = time.time()\n",
    "\n",
    "# DATA READING AND PREPROCESSING ------------------------------------------\n",
    "\n",
    "training_set_pos = \"train_pos_full.txt\" \n",
    "training_set_neg = \"train_neg_full.txt\"\n",
    "\n",
    "test_set = \"test_data.txt\"\n",
    "\n",
    "#Couning nr. of lines in pos and neg training_set\n",
    "nr_pos_lines = 0\n",
    "nr_neg_lines = 0\n",
    "\n",
    "\n",
    "#### CREATING CORPUS #### \n",
    "corpus = []\n",
    "\n",
    "#Adding lines from positive training set to CORPUS\n",
    "with open(training_set_pos,'rb') as infile:\n",
    "    for line in infile:\n",
    "        corpus.append(line)\n",
    "\n",
    "nr_pos_lines = len(corpus)\n",
    "print(\"pos_lines:\", nr_pos_lines)\n",
    "        \n",
    "#Adding lines from negative training set to CORPUS\n",
    "with open(training_set_neg,'rb') as infile:\n",
    "    for line in infile:\n",
    "        corpus.append(line)\n",
    "        \n",
    "nr_neg_lines = len(corpus) - nr_pos_lines\n",
    "print(\"neg_lines:\", nr_neg_lines)\n",
    "\n",
    "nr_lines_total = nr_pos_lines + nr_neg_lines\n",
    "print(\"total_lines:\", nr_lines_total)\n",
    "\n",
    "##########################\n",
    "\n",
    "\n",
    "#### CREATING TEST CORPUS ####\n",
    "\n",
    "test_corpus = []\n",
    "\n",
    "with open(test_set,'rb') as infile:\n",
    "    for line in infile:\n",
    "        test_corpus.append(line)\n",
    "        \n",
    "        \n",
    "##############################\n",
    "\n",
    "#Making pos/neg labels, setting pos = 1 and neg = 0 \n",
    "labels = np.zeros(nr_lines_total);\n",
    "labels[0:nr_pos_lines]=1;\n",
    "labels[nr_pos_lines:nr_lines_total]=-1;\n",
    "\n",
    "vectorizer = TfidfVectorizer(\n",
    "    min_df=5, # removing word that occure less then 10 times \n",
    "    max_df = 0.8, # remove words that are too frequent ( more then 0.8 * number of files )\n",
    "    sublinear_tf=True, # scale the term frequency in logarithmic scale\n",
    "    use_idf =True, \n",
    "    stop_words = 'english' # Removing stop-words\n",
    ")\n",
    "\n",
    "\n",
    "\n",
    "#CLASSIFYING WITH SVM\n",
    "model = LinearSVC()\n",
    "\n",
    "elapsed = time.time()\n",
    "\n",
    "print (\"Time in min:\", (elapsed - start) / 60 )\n"
   ]
  },
  {
   "cell_type": "code",
   "execution_count": 47,
   "metadata": {},
   "outputs": [
    {
     "name": "stdout",
     "output_type": "stream",
     "text": [
      "Time in min: 0.7312580029169718\n"
     ]
    }
   ],
   "source": [
    "start = time.time()\n",
    "\n",
    "#VECTORIZING ( Basically the preprocessing, see: TfidfVectorizer)\n",
    "train_corpus_fittrans = vectorizer.fit_transform(corpus) \n",
    "test_corpus_trans = vectorizer.transform(test_corpus)\n",
    "\n",
    "elapsed = time.time()\n",
    "\n",
    "print (\"Time in min:\", (elapsed - start) / 60 )"
   ]
  },
  {
   "cell_type": "code",
   "execution_count": 48,
   "metadata": {},
   "outputs": [
    {
     "name": "stdout",
     "output_type": "stream",
     "text": [
      "Time in min: 10.896052078406017\n"
     ]
    }
   ],
   "source": [
    "start = time.time()\n",
    "\n",
    "# FITTING THE MODEL\n",
    "model.fit(train_corpus_fittrans, labels)\n",
    "\n",
    "elapsed = time.time()\n",
    "print (\"Time in min:\", (elapsed - start) / 60 )"
   ]
  },
  {
   "cell_type": "code",
   "execution_count": 49,
   "metadata": {},
   "outputs": [
    {
     "name": "stdout",
     "output_type": "stream",
     "text": [
      "Time in min: 3.343025843302409e-05\n"
     ]
    }
   ],
   "source": [
    "start = time.time()\n",
    "\n",
    "#PREDICTING\n",
    "submission_prediction = model.predict(test_corpus_trans)\n",
    "\n",
    "elapsed = time.time()\n",
    "print (\"Time in min:\", (elapsed - start) / 60 )"
   ]
  },
  {
   "cell_type": "code",
   "execution_count": 57,
   "metadata": {},
   "outputs": [
    {
     "name": "stdout",
     "output_type": "stream",
     "text": [
      "Time in min: 0.002280151844024658\n"
     ]
    }
   ],
   "source": [
    "start = time.time()\n",
    "\n",
    "#CREATING SUBMISSION\n",
    "ids = list(range(1,nr_lines_total+1))\n",
    "y_pred = submission_prediction\n",
    "name = \"keggle_submission.csv\"\n",
    "\n",
    "create_csv_submission(ids, y_pred, name)\n",
    "\n",
    "elapsed = time.time()\n",
    "print (\"Time in min:\", (elapsed - start) / 60 )"
   ]
  },
  {
   "cell_type": "code",
   "execution_count": null,
   "metadata": {
    "collapsed": true
   },
   "outputs": [],
   "source": []
  }
 ],
 "metadata": {
  "kernelspec": {
   "display_name": "Python 3",
   "language": "python",
   "name": "python3"
  },
  "language_info": {
   "codemirror_mode": {
    "name": "ipython",
    "version": 3
   },
   "file_extension": ".py",
   "mimetype": "text/x-python",
   "name": "python",
   "nbconvert_exporter": "python",
   "pygments_lexer": "ipython3",
   "version": "3.6.1"
  }
 },
 "nbformat": 4,
 "nbformat_minor": 2
}
